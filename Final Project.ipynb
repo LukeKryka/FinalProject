{
 "cells": [
  {
   "cell_type": "markdown",
   "metadata": {},
   "source": [
    "# The Safest Neighborhood in Pittsburgh"
   ]
  },
  {
   "cell_type": "markdown",
   "metadata": {},
   "source": [
    "### Introduction"
   ]
  },
  {
   "cell_type": "markdown",
   "metadata": {},
   "source": [
    "By using all the datasets given to us by WPRDC, we ended up narrowing the evidence for the best neighborhoods down to the number of arrests, the number and location of prisoners in Alleghany County, and the number of parks. Our overall metric was to decide what the safest neighborhood in Pittsburgh is. We ultimately chose this metric because there are a lot of different ways to go about gathering evidence through a multitude of datasets, allowing us to have options on what data we wanted to include. The reason we decided to go with a wide variety of datasets is to show the overall general safety of the neighborhoods, not just based one type of data. The number of arrests and prisoners along with their location go to show the areas with the lowest amount of crime, while the number of parks \n",
    "helps show the general community and safety of a neighborhood."
   ]
  },
  {
   "cell_type": "markdown",
   "metadata": {},
   "source": [
    "## Arrest Dataset"
   ]
  },
  {
   "cell_type": "markdown",
   "metadata": {},
   "source": [
    "The metric I chose was the amount of arrests per neighborhoods. The dataset I used was already between the years 2016-2022, so I decided to use all the data and only display the top neighborhoods with the least amount of arrests.\n"
   ]
  },
  {
   "cell_type": "markdown",
   "metadata": {},
   "source": [
    "First we imported the arrest data through pandas and intialized matplotlib which we will use later for the necessary graphs. Next, we imported and read through the arrest dataset. Because the data is a csv, we are able to use pd.read_csv to read the dataset. Let's then use arrestData.head() to display the first five rows of data. This is useful as we can see the type of data being analyzed and since this dataset has thousands of entries, it's better than displaying the entirety of the datset. "
   ]
  },
  {
   "cell_type": "code",
   "execution_count": 2,
   "metadata": {},
   "outputs": [
    {
     "data": {
      "text/html": [
       "<div>\n",
       "<style scoped>\n",
       "    .dataframe tbody tr th:only-of-type {\n",
       "        vertical-align: middle;\n",
       "    }\n",
       "\n",
       "    .dataframe tbody tr th {\n",
       "        vertical-align: top;\n",
       "    }\n",
       "\n",
       "    .dataframe thead th {\n",
       "        text-align: right;\n",
       "    }\n",
       "</style>\n",
       "<table border=\"1\" class=\"dataframe\">\n",
       "  <thead>\n",
       "    <tr style=\"text-align: right;\">\n",
       "      <th></th>\n",
       "      <th>PK</th>\n",
       "      <th>CCR</th>\n",
       "      <th>AGE</th>\n",
       "      <th>GENDER</th>\n",
       "      <th>RACE</th>\n",
       "      <th>ARRESTTIME</th>\n",
       "      <th>ARRESTLOCATION</th>\n",
       "      <th>OFFENSES</th>\n",
       "      <th>INCIDENTLOCATION</th>\n",
       "      <th>INCIDENTNEIGHBORHOOD</th>\n",
       "      <th>INCIDENTZONE</th>\n",
       "      <th>INCIDENTTRACT</th>\n",
       "      <th>COUNCIL_DISTRICT</th>\n",
       "      <th>PUBLIC_WORKS_DIVISION</th>\n",
       "      <th>X</th>\n",
       "      <th>Y</th>\n",
       "    </tr>\n",
       "  </thead>\n",
       "  <tbody>\n",
       "    <tr>\n",
       "      <th>0</th>\n",
       "      <td>1975272</td>\n",
       "      <td>16158872</td>\n",
       "      <td>42.0</td>\n",
       "      <td>F</td>\n",
       "      <td>B</td>\n",
       "      <td>2016-08-24T12:20:00</td>\n",
       "      <td>4700 Block Centre AV Pittsburgh, PA 15213</td>\n",
       "      <td>3929 Retail Theft.</td>\n",
       "      <td>4700 Block Centre AV Pittsburgh, PA 15213</td>\n",
       "      <td>Bloomfield</td>\n",
       "      <td>5</td>\n",
       "      <td>804.0</td>\n",
       "      <td>8.0</td>\n",
       "      <td>2.0</td>\n",
       "      <td>-79.949277</td>\n",
       "      <td>40.452551</td>\n",
       "    </tr>\n",
       "    <tr>\n",
       "      <th>1</th>\n",
       "      <td>1974456</td>\n",
       "      <td>16144120</td>\n",
       "      <td>31.0</td>\n",
       "      <td>M</td>\n",
       "      <td>W</td>\n",
       "      <td>2016-08-03T14:55:00</td>\n",
       "      <td>4200 Block Steubenville PKE Pittsburgh, PA 15205</td>\n",
       "      <td>13(a)(16) Possession of Controlled Substance</td>\n",
       "      <td>4200 Block Steubenville PKE Pittsburgh, PA 15205</td>\n",
       "      <td>Outside City</td>\n",
       "      <td>OSC</td>\n",
       "      <td>5599.0</td>\n",
       "      <td>NaN</td>\n",
       "      <td>NaN</td>\n",
       "      <td>-80.088018</td>\n",
       "      <td>40.440136</td>\n",
       "    </tr>\n",
       "    <tr>\n",
       "      <th>2</th>\n",
       "      <td>1974466</td>\n",
       "      <td>16144165</td>\n",
       "      <td>63.0</td>\n",
       "      <td>F</td>\n",
       "      <td>B</td>\n",
       "      <td>2016-08-03T16:45:00</td>\n",
       "      <td>900 Block Freeport RD Fox Chapel, PA 15238</td>\n",
       "      <td>3929 Retail Theft.</td>\n",
       "      <td>900 Block Freeport RD Fox Chapel, PA 15238</td>\n",
       "      <td>Westwood</td>\n",
       "      <td>5</td>\n",
       "      <td>2811.0</td>\n",
       "      <td>9.0</td>\n",
       "      <td>2.0</td>\n",
       "      <td>-79.891803</td>\n",
       "      <td>40.486625</td>\n",
       "    </tr>\n",
       "    <tr>\n",
       "      <th>3</th>\n",
       "      <td>1974550</td>\n",
       "      <td>16145257</td>\n",
       "      <td>25.0</td>\n",
       "      <td>F</td>\n",
       "      <td>W</td>\n",
       "      <td>2016-08-05T02:36:00</td>\n",
       "      <td>Foreland ST &amp; Cedar AV Pittsburgh, PA 15212</td>\n",
       "      <td>5503 Disorderly Conduct. / 5505 Public Drunken...</td>\n",
       "      <td>Foreland ST &amp; Cedar AV Pittsburgh, PA 15212</td>\n",
       "      <td>East Allegheny</td>\n",
       "      <td>1</td>\n",
       "      <td>2304.0</td>\n",
       "      <td>1.0</td>\n",
       "      <td>1.0</td>\n",
       "      <td>-80.001939</td>\n",
       "      <td>40.454080</td>\n",
       "    </tr>\n",
       "    <tr>\n",
       "      <th>4</th>\n",
       "      <td>1974596</td>\n",
       "      <td>16145962</td>\n",
       "      <td>25.0</td>\n",
       "      <td>M</td>\n",
       "      <td>B</td>\n",
       "      <td>2016-08-06T02:00:00</td>\n",
       "      <td>900 Block Woodlow ST Pittsburgh, PA 15205</td>\n",
       "      <td>2702 Aggravated Assault. / 2705 Recklessy Enda...</td>\n",
       "      <td>900 Block Woodlow ST Pittsburgh, PA 15205</td>\n",
       "      <td>Crafton Heights</td>\n",
       "      <td>5</td>\n",
       "      <td>2814.0</td>\n",
       "      <td>2.0</td>\n",
       "      <td>5.0</td>\n",
       "      <td>-80.052204</td>\n",
       "      <td>40.445900</td>\n",
       "    </tr>\n",
       "  </tbody>\n",
       "</table>\n",
       "</div>"
      ],
      "text/plain": [
       "        PK       CCR   AGE GENDER RACE           ARRESTTIME  \\\n",
       "0  1975272  16158872  42.0      F    B  2016-08-24T12:20:00   \n",
       "1  1974456  16144120  31.0      M    W  2016-08-03T14:55:00   \n",
       "2  1974466  16144165  63.0      F    B  2016-08-03T16:45:00   \n",
       "3  1974550  16145257  25.0      F    W  2016-08-05T02:36:00   \n",
       "4  1974596  16145962  25.0      M    B  2016-08-06T02:00:00   \n",
       "\n",
       "                                     ARRESTLOCATION  \\\n",
       "0         4700 Block Centre AV Pittsburgh, PA 15213   \n",
       "1  4200 Block Steubenville PKE Pittsburgh, PA 15205   \n",
       "2        900 Block Freeport RD Fox Chapel, PA 15238   \n",
       "3       Foreland ST & Cedar AV Pittsburgh, PA 15212   \n",
       "4         900 Block Woodlow ST Pittsburgh, PA 15205   \n",
       "\n",
       "                                            OFFENSES  \\\n",
       "0                                 3929 Retail Theft.   \n",
       "1       13(a)(16) Possession of Controlled Substance   \n",
       "2                                 3929 Retail Theft.   \n",
       "3  5503 Disorderly Conduct. / 5505 Public Drunken...   \n",
       "4  2702 Aggravated Assault. / 2705 Recklessy Enda...   \n",
       "\n",
       "                                   INCIDENTLOCATION INCIDENTNEIGHBORHOOD  \\\n",
       "0         4700 Block Centre AV Pittsburgh, PA 15213           Bloomfield   \n",
       "1  4200 Block Steubenville PKE Pittsburgh, PA 15205         Outside City   \n",
       "2        900 Block Freeport RD Fox Chapel, PA 15238             Westwood   \n",
       "3       Foreland ST & Cedar AV Pittsburgh, PA 15212       East Allegheny   \n",
       "4         900 Block Woodlow ST Pittsburgh, PA 15205      Crafton Heights   \n",
       "\n",
       "  INCIDENTZONE  INCIDENTTRACT  COUNCIL_DISTRICT  PUBLIC_WORKS_DIVISION  \\\n",
       "0            5          804.0               8.0                    2.0   \n",
       "1          OSC         5599.0               NaN                    NaN   \n",
       "2            5         2811.0               9.0                    2.0   \n",
       "3            1         2304.0               1.0                    1.0   \n",
       "4            5         2814.0               2.0                    5.0   \n",
       "\n",
       "           X          Y  \n",
       "0 -79.949277  40.452551  \n",
       "1 -80.088018  40.440136  \n",
       "2 -79.891803  40.486625  \n",
       "3 -80.001939  40.454080  \n",
       "4 -80.052204  40.445900  "
      ]
     },
     "execution_count": 2,
     "metadata": {},
     "output_type": "execute_result"
    }
   ],
   "source": [
    "#imports panda and matplotlib\n",
    "import pandas as pd\n",
    "%matplotlib inline\n",
    "\n",
    "#import and read the arrests dataset\n",
    "arrestData = pd.read_csv('https://data.wprdc.org/datastore/dump/e03a89dd-134a-4ee8-a2bd-62c40aeebc6f')\n",
    "\n",
    "#display first five rows of data\n",
    "arrestData.head(5)"
   ]
  },
  {
   "cell_type": "markdown",
   "metadata": {},
   "source": [
    "For the next step we begin again by importing pandas and matplotlib. We then initialize a dictionary so we can sort through the data easily. Using pd.read_csv we are able to read through the dataset once again. Using two separate for loops, we are able to read through both the columns within the dataset, and the values within a specified column. The first for loop goes through the columns in arrestData and within the loop, the column we want which is 'neighborhoods' is selected out of all the columns. The second for loop then goes through every value in 'neighborhoods' and if the value doesn't already exist within the dictionary the value becomes 1, otherwise 1 is added to the already existing value. This allows us to count how many arrests occured within which neighborhoods and figure out which neighborhoods are the safest based on the output."
   ]
  },
  {
   "cell_type": "code",
   "execution_count": 3,
   "metadata": {},
   "outputs": [
    {
     "name": "stdout",
     "output_type": "stream",
     "text": [
      "{'Bloomfield': 880, 'Outside City': 274, 'Westwood': 203, 'East Allegheny': 1893, 'Crafton Heights': 513, 'Greenfield': 473, 'Brookline': 1196, 'Regent Square': 32, 'East Liberty': 1652, nan: 2203, 'East Hills': 1026, 'Carrick': 2102, 'Allegheny Center': 1122, 'South Side Flats': 3053, 'Sheraden': 1132, 'East Carnegie': 47, 'Golden Triangle/Civic Arena': 83, 'Point Breeze North': 249, 'Perry South': 954, 'Allentown': 855, 'North Shore': 722, 'Marshall-Shadeland': 1332, 'Central Oakland': 469, 'Middle Hill': 844, 'Strip District': 440, 'Lincoln-Lemington-Belmar': 1148, 'Central Northside': 23, 'Troy Hill-Herrs Island': 6, 'Highland Park': 502, 'Homewood North': 1742, 'Northview Heights': 626, 'Brighton Heights': 978, 'Hazelwood': 1225, 'Perry North': 554, 'Bedford Dwellings': 582, 'Elliott': 588, 'Beechview': 1076, 'Fineview': 750, 'Glen Hazel': 143, 'Spring Hill-City View': 630, 'Bluff': 1313, 'Manchester': 439, 'Homewood West': 699, 'Outside County': 49, 'Point Breeze': 283, 'Homewood South': 1863, 'Squirrel Hill South': 727, 'Terrace Village': 255, 'Upper Lawrenceville': 170, 'Arlington': 263, 'South Side Slopes': 714, 'Lower Lawrenceville': 232, 'Garfield': 628, 'Lincoln Place': 190, 'Larimer': 770, 'Mount Washington': 1280, 'California-Kirkbride': 255, 'Banksville': 256, 'Bon Air': 230, 'South Shore': 268, 'Beltzhoover': 461, 'Knoxville': 1180, 'Chateau': 393, 'Crawford-Roberts': 734, 'Polish Hill': 144, 'Fairywood': 108, 'West End': 250, 'Shadyside': 855, 'Morningside': 173, 'Overbrook': 280, 'Friendship': 151, 'North Oakland': 390, 'Central Lawrenceville': 398, 'Oakwood': 78, 'Upper Hill': 325, 'South Oakland': 311, 'West Oakland': 274, 'Spring Garden': 200, 'Allegheny West': 115, 'St. Clair': 45, 'Stanton Heights': 199, 'Esplen': 186, 'Squirrel Hill North': 252, 'Mt. Oliver Neighborhood': 2, 'Summer Hill': 63, 'Arlington Heights': 130, 'Troy Hill': 379, 'Central Business District': 3570, 'Central North Side': 760, 'Mount Oliver': 111, 'Windgap': 103, 'Outside State': 57, 'Duquesne Heights': 177, 'New Homestead': 38, 'Ridgemont': 32, 'Swisshelm Park': 38, 'Hays': 98, 'Chartiers City': 38, 'Mt. Oliver Boro': 18}\n"
     ]
    }
   ],
   "source": [
    "#imports panda and matplotlib\n",
    "import pandas as pd\n",
    "%matplotlib inline\n",
    "\n",
    "#intialize dictionary and read through dataset\n",
    "arrestDictionary = dict()\n",
    "arrestData = pd.read_csv('https://data.wprdc.org/datastore/dump/e03a89dd-134a-4ee8-a2bd-62c40aeebc6f')\n",
    "\n",
    "#loops through specified column in dataset\n",
    "for column in arrestData:\n",
    "    #initializes the specified column and iterates through its values\n",
    "    neighborhoods = arrestData[\"INCIDENTNEIGHBORHOOD\"].values\n",
    "\n",
    "#loops through every value in the neighborhoods column\n",
    "for value in neighborhoods:\n",
    "    \n",
    "    #states if value isn't already in the dictionary, the value becomes 1\n",
    "    if value not in arrestDictionary:\n",
    "        arrestDictionary[value] = 1\n",
    "    else:\n",
    "        #states if value is already in dictionary, 1 is added to the value\n",
    "        arrestDictionary[value] = arrestDictionary[value] + 1\n",
    "\n",
    "#prints out dictionary\n",
    "print(arrestDictionary)"
   ]
  },
  {
   "cell_type": "markdown",
   "metadata": {},
   "source": [
    "Since the dictionary simply printed out is quite difficult to understand, we converted the dictionary into a series so we could then sort all the values in ascending order therefore making it a lot easier to comprehend."
   ]
  },
  {
   "cell_type": "code",
   "execution_count": 4,
   "metadata": {},
   "outputs": [
    {
     "data": {
      "text/plain": [
       "Mt. Oliver Neighborhood         2\n",
       "Troy Hill-Herrs Island          6\n",
       "Mt. Oliver Boro                18\n",
       "Central Northside              23\n",
       "Ridgemont                      32\n",
       "                             ... \n",
       "East Allegheny               1893\n",
       "Carrick                      2102\n",
       "NaN                          2203\n",
       "South Side Flats             3053\n",
       "Central Business District    3570\n",
       "Name: Arrests Per Neighborhood, Length: 99, dtype: int64"
      ]
     },
     "execution_count": 4,
     "metadata": {},
     "output_type": "execute_result"
    }
   ],
   "source": [
    "#changes the dictionary to a series\n",
    "arrestDataSeries = pd.Series(arrestDictionary, name = 'Arrests Per Neighborhood')\n",
    "\n",
    "#sorts through the values within the series and places then in ascending order\n",
    "arrestDataSeries.sort_values()[:]"
   ]
  },
  {
   "cell_type": "markdown",
   "metadata": {},
   "source": [
    "We then decided to sort the series again but this time we used the first 20 neighborhoods with the least amount of arrests. This makes it easier for us to graph and visualize the data later rather than trying to vizualize every single neighborhood."
   ]
  },
  {
   "cell_type": "code",
   "execution_count": 5,
   "metadata": {},
   "outputs": [
    {
     "data": {
      "text/plain": [
       "Mt. Oliver Neighborhood          2\n",
       "Troy Hill-Herrs Island           6\n",
       "Mt. Oliver Boro                 18\n",
       "Central Northside               23\n",
       "Ridgemont                       32\n",
       "Regent Square                   32\n",
       "Chartiers City                  38\n",
       "Swisshelm Park                  38\n",
       "New Homestead                   38\n",
       "St. Clair                       45\n",
       "East Carnegie                   47\n",
       "Outside County                  49\n",
       "Outside State                   57\n",
       "Summer Hill                     63\n",
       "Oakwood                         78\n",
       "Golden Triangle/Civic Arena     83\n",
       "Hays                            98\n",
       "Windgap                        103\n",
       "Fairywood                      108\n",
       "Mount Oliver                   111\n",
       "Name: Arrests Per Neighborhood, dtype: int64"
      ]
     },
     "execution_count": 5,
     "metadata": {},
     "output_type": "execute_result"
    }
   ],
   "source": [
    "#displays the first 20 neighborhoods within the sorted series\n",
    "arrestDataSeries.sort_values()[:20]"
   ]
  },
  {
   "cell_type": "markdown",
   "metadata": {},
   "source": [
    "Now that we have our first 20 neighborhoods set up and ordered, let's make a graph of the data so we can see the comparaison visually."
   ]
  },
  {
   "cell_type": "code",
   "execution_count": 7,
   "metadata": {},
   "outputs": [
    {
     "data": {
      "text/plain": [
       "Text(0, 0.5, 'Number of Arrests')"
      ]
     },
     "execution_count": 7,
     "metadata": {},
     "output_type": "execute_result"
    },
    {
     "data": {
      "image/png": "[encoded data removed]",
      "text/plain": [
       "<Figure size 432x288 with 1 Axes>"
      ]
     },
     "metadata": {
      "needs_background": "light"
     },
     "output_type": "display_data"
    }
   ],
   "source": [
    "#import matplotlib to graph the data\n",
    "import matplotlib.pyplot as plt\n",
    "\n",
    "#plots the arrest series of the first 20 neighborhoods in a bar graph\n",
    "arrestDataSeries.sort_values()[:20].plot.bar()\n",
    "\n",
    "#applies labels to the title and axes\n",
    "plt.title('Arrests Per Neighborhood')\n",
    "plt.xlabel('Neighborhoods')\n",
    "plt.ylabel('Number of Arrests')"
   ]
  },
  {
   "cell_type": "markdown",
   "metadata": {},
   "source": [
    "Looking at the graph above, we can see the general upward trend of the amount of arrests. We can see the first 10 neighborhoods are all quite low but there is a small spike of arrests toward the right side of the graph. It will be quite intriguing to compare this data with the other two datasets and see which neighborhoods are truly the safest."
   ]
  },
  {
   "cell_type": "markdown",
   "metadata": {},
   "source": [
    "## Crime Dataset"
   ]
  },
  {
   "cell_type": "code",
   "execution_count": null,
   "metadata": {},
   "outputs": [],
   "source": [
    "import pandas as pd\n",
    "%matplotlib inline\n",
    "#Imports pandas and the plot lib\n",
    "#import matplotlib to graph the data\n",
    "import matplotlib.pyplot as plt\n",
    "df = pd.read_csv(\"Crime.csv\")\n",
    "#Reads the crime info excel into a variable\n",
    "my_List=dict()\n",
    "#Creates list\n",
    "my_List= df.groupby(\"INCIDENTNEIGHBORHOOD\")['INCIDENTNEIGHBORHOOD'].count()\n",
    "#Organizes the list by neighborhoods and the sum of the crimes within the neighborhood. I created a quantity section in the excel and just added the sums of all of them\n",
    "my_List.sort_values()[:50]"
   ]
  },
  {
   "cell_type": "markdown",
   "metadata": {},
   "source": [
    "This code imports pandas and matplotlib. It then reads the crime data from 2016 to present and adds one to every crime that happened in the neighborhood. I did this by adding a quantity column and adding one to every cell. This took two seconds with copy and paste and allows for easy addition."
   ]
  },
  {
   "cell_type": "code",
   "execution_count": null,
   "metadata": {},
   "outputs": [],
   "source": [
    "my_List.sort_values()[:20].plot.bar()\n",
    "plt.title('Crimes Per Neighborhood')\n",
    "plt.xlabel('Neighborhoods')\n",
    "plt.ylabel('Number of Crimes')"
   ]
  },
  {
   "cell_type": "markdown",
   "metadata": {},
   "source": [
    "This shows the top 20 neighborhoods that have the least amount of crime sense 2016. This graph clearly shows the safest neighborhoods with Mt. Oliver Neighborhood being on top."
   ]
  },
  {
   "cell_type": "code",
   "execution_count": null,
   "metadata": {},
   "outputs": [],
   "source": [
    "my_List[:20].plot.bar()\n",
    "plt.title('Crimes Per Neighborhood')\n",
    "plt.xlabel('Neighborhoods')\n",
    "plt.ylabel('Number of Crimes')"
   ]
  },
  {
   "cell_type": "markdown",
   "metadata": {},
   "source": [
    "This shows the sum of the first 20 neighborhoods within the data set."
   ]
  },
  {
   "cell_type": "code",
   "execution_count": null,
   "metadata": {},
   "outputs": [],
   "source": [
    "my_List.sort_values(ascending=[False])[:30].plot.bar()\n",
    "plt.title('Crimes Per Neighborhood')\n",
    "plt.xlabel('Neighborhoods')\n",
    "plt.ylabel('Number of Crimes')"
   ]
  },
  {
   "cell_type": "markdown",
   "metadata": {},
   "source": [
    "This shows the 30 most dangerous neighborhoods within Pittsburgh with South Side Flats being on top."
   ]
  },
  {
   "cell_type": "markdown",
   "metadata": {},
   "source": [
    "## Park Dataset"
   ]
  },
  {
   "cell_type": "markdown",
   "metadata": {},
   "source": [
    "First we imported the parks data through pandas and intialized matplotlib. Next, we imported and read through the arrest dataset. We then used df_parks_data.head(5) to display the first five rows of data."
   ]
  },
  {
   "cell_type": "code",
   "execution_count": 14,
   "metadata": {},
   "outputs": [
    {
     "data": {
      "text/html": [
       "<div>\n",
       "<style scoped>\n",
       "    .dataframe tbody tr th:only-of-type {\n",
       "        vertical-align: middle;\n",
       "    }\n",
       "\n",
       "    .dataframe tbody tr th {\n",
       "        vertical-align: top;\n",
       "    }\n",
       "\n",
       "    .dataframe thead th {\n",
       "        text-align: right;\n",
       "    }\n",
       "</style>\n",
       "<table border=\"1\" class=\"dataframe\">\n",
       "  <thead>\n",
       "    <tr style=\"text-align: right;\">\n",
       "      <th></th>\n",
       "      <th>id</th>\n",
       "      <th>name</th>\n",
       "      <th>type</th>\n",
       "      <th>maintenance_responsibility</th>\n",
       "      <th>image</th>\n",
       "      <th>neighborhood</th>\n",
       "      <th>council_district</th>\n",
       "      <th>ward</th>\n",
       "      <th>tract</th>\n",
       "      <th>public_works_division</th>\n",
       "      <th>pli_division</th>\n",
       "      <th>police_zone</th>\n",
       "      <th>fire_zone</th>\n",
       "      <th>latitude</th>\n",
       "      <th>longitude</th>\n",
       "    </tr>\n",
       "  </thead>\n",
       "  <tbody>\n",
       "    <tr>\n",
       "      <th>0</th>\n",
       "      <td>2111959181</td>\n",
       "      <td>Able Long Park</td>\n",
       "      <td>Park</td>\n",
       "      <td>Parks - Southern</td>\n",
       "      <td>https://tools.wprdc.org/images/pittsburgh/park...</td>\n",
       "      <td>Beechview</td>\n",
       "      <td>4</td>\n",
       "      <td>19</td>\n",
       "      <td>42003192000</td>\n",
       "      <td>5</td>\n",
       "      <td>19</td>\n",
       "      <td>6</td>\n",
       "      <td>4-28</td>\n",
       "      <td>40.408118</td>\n",
       "      <td>-80.028197</td>\n",
       "    </tr>\n",
       "    <tr>\n",
       "      <th>1</th>\n",
       "      <td>1109513049</td>\n",
       "      <td>Albert Turk Graham Park</td>\n",
       "      <td>Park</td>\n",
       "      <td>Parks - Schenley</td>\n",
       "      <td>https://tools.wprdc.org/images/pittsburgh/park...</td>\n",
       "      <td>Crawford-Roberts</td>\n",
       "      <td>6</td>\n",
       "      <td>3</td>\n",
       "      <td>42003030500</td>\n",
       "      <td>3</td>\n",
       "      <td>3</td>\n",
       "      <td>2</td>\n",
       "      <td>2-1</td>\n",
       "      <td>40.440507</td>\n",
       "      <td>-79.984018</td>\n",
       "    </tr>\n",
       "    <tr>\n",
       "      <th>2</th>\n",
       "      <td>1544096765</td>\n",
       "      <td>Alcoa Park</td>\n",
       "      <td>Park</td>\n",
       "      <td>Parks - Northern</td>\n",
       "      <td>NaN</td>\n",
       "      <td>North Shore</td>\n",
       "      <td>1</td>\n",
       "      <td>22</td>\n",
       "      <td>42003563200</td>\n",
       "      <td>6</td>\n",
       "      <td>22</td>\n",
       "      <td>1</td>\n",
       "      <td>1-20</td>\n",
       "      <td>40.447481</td>\n",
       "      <td>-80.001017</td>\n",
       "    </tr>\n",
       "    <tr>\n",
       "      <th>3</th>\n",
       "      <td>1212681573</td>\n",
       "      <td>Allegheny Commons</td>\n",
       "      <td>Park</td>\n",
       "      <td>Parks - Northern</td>\n",
       "      <td>NaN</td>\n",
       "      <td>Allegheny Center</td>\n",
       "      <td>1</td>\n",
       "      <td>22</td>\n",
       "      <td>42003562700</td>\n",
       "      <td>1</td>\n",
       "      <td>22</td>\n",
       "      <td>1</td>\n",
       "      <td>1-7</td>\n",
       "      <td>40.453126</td>\n",
       "      <td>-80.009158</td>\n",
       "    </tr>\n",
       "    <tr>\n",
       "      <th>4</th>\n",
       "      <td>954863286</td>\n",
       "      <td>Allegheny Landing Park</td>\n",
       "      <td>Park</td>\n",
       "      <td>Parks - Northern</td>\n",
       "      <td>NaN</td>\n",
       "      <td>North Shore</td>\n",
       "      <td>1</td>\n",
       "      <td>22</td>\n",
       "      <td>42003563200</td>\n",
       "      <td>6</td>\n",
       "      <td>22</td>\n",
       "      <td>1</td>\n",
       "      <td>1-20</td>\n",
       "      <td>40.447184</td>\n",
       "      <td>-80.002907</td>\n",
       "    </tr>\n",
       "  </tbody>\n",
       "</table>\n",
       "</div>"
      ],
      "text/plain": [
       "           id                     name  type maintenance_responsibility  \\\n",
       "0  2111959181           Able Long Park  Park           Parks - Southern   \n",
       "1  1109513049  Albert Turk Graham Park  Park           Parks - Schenley   \n",
       "2  1544096765               Alcoa Park  Park           Parks - Northern   \n",
       "3  1212681573        Allegheny Commons  Park           Parks - Northern   \n",
       "4   954863286   Allegheny Landing Park  Park           Parks - Northern   \n",
       "\n",
       "                                               image      neighborhood  \\\n",
       "0  https://tools.wprdc.org/images/pittsburgh/park...         Beechview   \n",
       "1  https://tools.wprdc.org/images/pittsburgh/park...  Crawford-Roberts   \n",
       "2                                                NaN       North Shore   \n",
       "3                                                NaN  Allegheny Center   \n",
       "4                                                NaN       North Shore   \n",
       "\n",
       "   council_district  ward        tract  public_works_division  pli_division  \\\n",
       "0                 4    19  42003192000                      5            19   \n",
       "1                 6     3  42003030500                      3             3   \n",
       "2                 1    22  42003563200                      6            22   \n",
       "3                 1    22  42003562700                      1            22   \n",
       "4                 1    22  42003563200                      6            22   \n",
       "\n",
       "   police_zone fire_zone   latitude  longitude  \n",
       "0            6      4-28  40.408118 -80.028197  \n",
       "1            2       2-1  40.440507 -79.984018  \n",
       "2            1      1-20  40.447481 -80.001017  \n",
       "3            1       1-7  40.453126 -80.009158  \n",
       "4            1      1-20  40.447184 -80.002907  "
      ]
     },
     "execution_count": 14,
     "metadata": {},
     "output_type": "execute_result"
    }
   ],
   "source": [
    "import pandas as pd\n",
    " \n",
    "import matplotlib.pyplot as plt\n",
    "\n",
    "df_parks_data = pd.read_csv('https://data.wprdc.org/datastore/dump/fa329e3d-89ff-4708-8ddf-81bfedcad11d')\n",
    "\n",
    "df_parks_data.head(5)"
   ]
  },
  {
   "cell_type": "markdown",
   "metadata": {},
   "source": [
    "We then import pandas and matplotlib and initialize a dictionary in order to sort through the data. We are then able to read through both the columns within the dataset using for loops- the first goes through the columns in parks_data; second goes through every value in 'neighborhood' and if the value doesn't already exist within the dictionary the value becomes 1, if not, 1 is added to the already existing value. This allows us to determine the quantity of parks per neighborhood."
   ]
  },
  {
   "cell_type": "code",
   "execution_count": 6,
   "metadata": {},
   "outputs": [
    {
     "name": "stdout",
     "output_type": "stream",
     "text": [
      "{'Beechview': 8, 'Crawford-Roberts': 3, 'North Shore': 3, 'Allegheny Center': 2, 'Central Business District': 10, 'Central Northside': 3, 'East Liberty': 12, 'Bedford Dwellings': 1, 'South Side Slopes': 7, 'South Side Flats': 6, 'Lower Lawrenceville': 3, 'Banksville': 2, 'South Oakland': 5, 'Homewood North': 2, 'Hazelwood': 6, 'Bon Air': 1, 'Central Oakland': 4, 'Brighton Heights': 4, 'Brookline': 3, 'Spring Garden': 2, 'Lincoln-Lemington-Belmar': 3, 'Windgap': 1, 'Troy Hill': 5, 'Westwood': 3, 'Perry South': 2, 'Homewood West': 1, 'Squirrel Hill South': 6, 'Strip District': 2, 'Arlington': 1, 'Stanton Heights': 1, 'Crafton Heights': 2, 'Upper Lawrenceville': 3, 'East Carnegie': 1, 'East Hills': 1, 'Point Breeze': 7, 'Allentown': 2, 'Duquesne Heights': 2, 'Mount Washington': 6, 'Esplen': 1, 'Fairywood': 1, 'Fineview': 2, 'Garfield': 3, 'Greenfield': 3, 'Larimer': 3, 'Bloomfield': 3, 'Perry North': 2, 'North Oakland': 1, 'Hays': 1, 'Elliott': 4, 'Highland Park': 2, 'Homewood South': 1, 'Morningside': 1, 'Terrace Village': 2, 'Spring Hill-City View': 3, 'Carrick': 3, 'Central Lawrenceville': 1, 'Lincoln Place': 2, 'Manchester': 3, 'Marshall-Shadeland': 4, 'Sheraden': 6, 'Beltzhoover': 3, 'Point Breeze North': 3, 'Oakwood': 1, 'Polish Hill': 2, 'Regent Square': 1, 'Upper Hill': 1, 'New Homestead': 1, 'West Oakland': 1, 'Swisshelm Park': 3, 'Bluff': 1, 'Middle Hill': 1, 'West End': 2, 'Squirrel Hill North': 1}\n"
     ]
    }
   ],
   "source": [
    "#imports panda and matplotlib\n",
    "import pandas as pd\n",
    "%matplotlib inline\n",
    "\n",
    "#intialize dictionary and read through dataset\n",
    "parksDictionary = dict()\n",
    "df_parks_data = pd.read_csv('https://data.wprdc.org/datastore/dump/fa329e3d-89ff-4708-8ddf-81bfedcad11d')\n",
    "\n",
    "#loops through specified column in dataset\n",
    "for column in df_parks_data:\n",
    "    #initializes the specified column and iterates through its values\n",
    "    neighborhoods = df_parks_data[\"neighborhood\"].values\n",
    "\n",
    "#loops through every value in the neighborhoods column\n",
    "for value in neighborhoods:\n",
    "    \n",
    "    #states if value isn't already in the dictionary, the value becomes 1\n",
    "    if value not in parksDictionary:\n",
    "        parksDictionary[value] = 1\n",
    "    else:\n",
    "        #states if value is already in dictionary, 1 is added to the value\n",
    "        parksDictionary[value] = parksDictionary[value] + 1\n",
    "\n",
    "#prints out dictionary\n",
    "print(parksDictionary)"
   ]
  },
  {
   "cell_type": "markdown",
   "metadata": {},
   "source": [
    "We then convert the dictionary to a series so it's easier to read."
   ]
  },
  {
   "cell_type": "code",
   "execution_count": 7,
   "metadata": {},
   "outputs": [
    {
     "data": {
      "text/plain": [
       "Squirrel Hill North           1\n",
       "Arlington                     1\n",
       "East Hills                    1\n",
       "Homewood West                 1\n",
       "Esplen                        1\n",
       "                             ..\n",
       "South Side Slopes             7\n",
       "Point Breeze                  7\n",
       "Beechview                     8\n",
       "Central Business District    10\n",
       "East Liberty                 12\n",
       "Name: parks per neighborhood, Length: 73, dtype: int64"
      ]
     },
     "execution_count": 7,
     "metadata": {},
     "output_type": "execute_result"
    }
   ],
   "source": [
    "#changes the dictionary to a series\n",
    "parks_data_series = pd.Series(parksDictionary, name = 'parks per neighborhood')\n",
    "\n",
    "#sorts through the values within the series and places then in ascending order\n",
    "parks_data_series.sort_values()[:]"
   ]
  },
  {
   "cell_type": "code",
   "execution_count": 12,
   "metadata": {},
   "outputs": [
    {
     "data": {
      "text/plain": [
       "East Liberty                 12\n",
       "Central Business District    10\n",
       "Beechview                     8\n",
       "South Side Slopes             7\n",
       "Point Breeze                  7\n",
       "Squirrel Hill South           6\n",
       "Mount Washington              6\n",
       "Sheraden                      6\n",
       "Hazelwood                     6\n",
       "South Side Flats              6\n",
       "South Oakland                 5\n",
       "Troy Hill                     5\n",
       "Central Oakland               4\n",
       "Brighton Heights              4\n",
       "Marshall-Shadeland            4\n",
       "Elliott                       4\n",
       "Manchester                    3\n",
       "Upper Lawrenceville           3\n",
       "Bloomfield                    3\n",
       "Spring Hill-City View         3\n",
       "Carrick                       3\n",
       "Crawford-Roberts              3\n",
       "Larimer                       3\n",
       "Lincoln-Lemington-Belmar      3\n",
       "Westwood                      3\n",
       "Garfield                      3\n",
       "Brookline                     3\n",
       "Beltzhoover                   3\n",
       "Point Breeze North            3\n",
       "Lower Lawrenceville           3\n",
       "Swisshelm Park                3\n",
       "Central Northside             3\n",
       "North Shore                   3\n",
       "Greenfield                    3\n",
       "Lincoln Place                 2\n",
       "Terrace Village               2\n",
       "Highland Park                 2\n",
       "Polish Hill                   2\n",
       "Perry North                   2\n",
       "West End                      2\n",
       "Duquesne Heights              2\n",
       "Fineview                      2\n",
       "Crafton Heights               2\n",
       "Allegheny Center              2\n",
       "Banksville                    2\n",
       "Homewood North                2\n",
       "Spring Garden                 2\n",
       "Strip District                2\n",
       "Perry South                   2\n",
       "Allentown                     2\n",
       "Name: parks per neighborhood, dtype: int64"
      ]
     },
     "execution_count": 12,
     "metadata": {},
     "output_type": "execute_result"
    }
   ],
   "source": [
    "#displays the first 50 neighborhoods within the sorted series\n",
    "parks_data_series.sort_values(ascending=False)[:50]"
   ]
  },
  {
   "cell_type": "markdown",
   "metadata": {},
   "source": [
    "We then sort the series again into the first 50 parks."
   ]
  },
  {
   "cell_type": "code",
   "execution_count": 13,
   "metadata": {},
   "outputs": [
    {
     "data": {
      "text/plain": [
       "Text(0, 0.5, 'number of parks')"
      ]
     },
     "execution_count": 13,
     "metadata": {},
     "output_type": "execute_result"
    },
    {
     "data": {
      "image/png": "[encoded data removed]",
      "text/plain": [
       "<Figure size 432x288 with 1 Axes>"
      ]
     },
     "metadata": {
      "needs_background": "light"
     },
     "output_type": "display_data"
    }
   ],
   "source": [
    "#import matplotlib to graph the data\n",
    "import matplotlib.pyplot as plt\n",
    "\n",
    "#plots the arrest series of the first 50 neighborhoods in a bar graph\n",
    "parks_data_series.sort_values(ascending = False)[:50].plot.bar()\n",
    "\n",
    "#applies labels to the title and axes\n",
    "plt.title('parks per neighborhood')\n",
    "plt.xlabel('neighborhood')\n",
    "plt.ylabel('number of parks')"
   ]
  },
  {
   "cell_type": "markdown",
   "metadata": {},
   "source": [
    "Above is the graph of all 50 neighborhoods and the number of parks within them. East Liberty is the neighborhood with the most parks coming in with 12 followed by the Central Business District with 10."
   ]
  },
  {
   "cell_type": "markdown",
   "metadata": {},
   "source": [
    "## Conclusions"
   ]
  },
  {
   "cell_type": "markdown",
   "metadata": {},
   "source": [
    "#### Winner: Mt. Oliver Neighborhood"
   ]
  },
  {
   "cell_type": "markdown",
   "metadata": {},
   "source": [
    "**Morgan:** Based on all the data provided, Mt. Oliver Neighborhood seems to be the safest neighborhood in Pittsburgh. The least amount of arrests and crime occurred in this neighborhood meaning it topped two out of three of the submetrics. Since I am not from Pittsburgh, my favorite neighborhood and really the only one I know is Central Oakland. I don't have enough insight to compare the two neighborhoods, but based on the data I believe Mt. Oliver Neighborhood is a great place to live.\n",
    "    \n",
    "\n",
    "**Luke:** Once I organized the data to see which neighborhoods committed the least crimes there were clear neighborhoods that were safer then other. The neighborhood with the least amount of crime was Mt. Oliver Boro which only had 93 crimes sense 2016. The next neighborhood with the least crime is Mt. Oliver Neighborhood with only 117 crimes sense 2016. The next three neighborhoods with the least amount of crime are Outside County, Troy Hill-Herrs Island, and Ridgemont. Sense with the park data showing no correlation between crime and arrest we just look at the arrest data to compare. Once looking at the arrest data we will see that Mt. Oliver Neighborhood has the least amount of arrests at only two. The Mt. Oliver Boro suprisingly had 18 arrests. From this data I think that the Mt. Oliver neighborhood is the safest neighborhood because it is second in the least amount of crime sicne 2016 and the least amount of arrests.\n",
    "    \n",
    "    \n",
    "    \n",
    "    \n",
    "     \n",
    "**Meagan:**"
   ]
  }
 ],
 "metadata": {
  "kernelspec": {
   "display_name": "Python 3",
   "language": "python",
   "name": "python3"
  },
  "language_info": {
   "codemirror_mode": {
    "name": "ipython",
    "version": 3
   },
   "file_extension": ".py",
   "mimetype": "text/x-python",
   "name": "python",
   "nbconvert_exporter": "python",
   "pygments_lexer": "ipython3",
   "version": "3.8.3"
  }
 },
 "nbformat": 4,
 "nbformat_minor": 4
}
